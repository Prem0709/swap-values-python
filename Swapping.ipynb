{
 "cells": [
  {
   "cell_type": "markdown",
   "id": "8ebebc07-d4d9-40bf-90da-2f257f96e619",
   "metadata": {},
   "source": [
    "# 29_jan"
   ]
  },
  {
   "cell_type": "code",
   "execution_count": 4,
   "id": "7cb09339-7d4a-498b-9667-70900eaa7ea4",
   "metadata": {},
   "outputs": [],
   "source": [
    "# swap the 2 variable\n",
    "# \t1- using temp (3rd variable)\n",
    "# \t2- using operator\n",
    "# \t3- can you swap using bit number ( use print(0b101| ob 110)\n",
    "# \t4- using XOR ( i will explain tomorrow)\n",
    "# \t5- a, b = b, a "
   ]
  },
  {
   "cell_type": "code",
   "execution_count": 6,
   "id": "359e6aa9-da2c-4fef-979c-4ff899f6cb37",
   "metadata": {},
   "outputs": [],
   "source": [
    "# use 1st Method "
   ]
  },
  {
   "cell_type": "code",
   "execution_count": 14,
   "id": "b43701ad-9bf4-4f18-abfc-71ff7996c041",
   "metadata": {},
   "outputs": [
    {
     "name": "stdout",
     "output_type": "stream",
     "text": [
      "A=5 B=6\n"
     ]
    }
   ],
   "source": [
    "a=5\n",
    "b=6\n",
    "print(\"A=\"+ str(a),\"B=\"+str(b))"
   ]
  },
  {
   "cell_type": "code",
   "execution_count": 16,
   "id": "764c026e-8895-4e79-9970-ccca9c416b8c",
   "metadata": {},
   "outputs": [
    {
     "name": "stdout",
     "output_type": "stream",
     "text": [
      "A= 6, B = 5\n"
     ]
    }
   ],
   "source": [
    "temp = a\n",
    "a = b\n",
    "b = temp\n",
    "print(f\"A= {a}, B = {b}\")"
   ]
  },
  {
   "cell_type": "code",
   "execution_count": 18,
   "id": "45483fd3-51a4-45e2-ad34-7c5a63f43a64",
   "metadata": {},
   "outputs": [],
   "source": [
    "# 2 Use 2nd Method"
   ]
  },
  {
   "cell_type": "code",
   "execution_count": 20,
   "id": "b19440c9-6f0d-4ff8-9753-1f9bd083e539",
   "metadata": {},
   "outputs": [
    {
     "name": "stdout",
     "output_type": "stream",
     "text": [
      "A=6 B=5\n"
     ]
    }
   ],
   "source": [
    "print(\"A=\"+ str(a),\"B=\"+str(b))"
   ]
  },
  {
   "cell_type": "code",
   "execution_count": 22,
   "id": "5ab6df54-9401-445a-8910-af4c9dea7aa8",
   "metadata": {},
   "outputs": [
    {
     "name": "stdout",
     "output_type": "stream",
     "text": [
      "A=5 B=6\n"
     ]
    }
   ],
   "source": [
    "a= a + b # 6+5=11\n",
    "b = a - b # 11-5=6 : b= 6\n",
    "a= a - b  # 11-6 = 5 : a =5\n",
    "print(\"A=\"+str(a), \"B=\"+ str(b))"
   ]
  },
  {
   "cell_type": "code",
   "execution_count": 24,
   "id": "4feb8cb8-9bea-4ef2-9f4c-a33d44377d12",
   "metadata": {},
   "outputs": [],
   "source": [
    "# 3 Use 3rd method "
   ]
  },
  {
   "cell_type": "code",
   "execution_count": 40,
   "id": "1eaa95ed-ccfe-48be-89f5-b5af4bee8484",
   "metadata": {},
   "outputs": [],
   "source": [
    "aa = 0b0101  # 5 in binary\n",
    "bb = 0b0110  # 6 in binary\n"
   ]
  },
  {
   "cell_type": "code",
   "execution_count": 44,
   "id": "ccbbc940-ac8c-48d3-a1bf-e046959a3bce",
   "metadata": {},
   "outputs": [
    {
     "name": "stdout",
     "output_type": "stream",
     "text": [
      "a =  6\n",
      "b =  5\n"
     ]
    }
   ],
   "source": [
    "print(\"a = \",bb )\n",
    "print(\"b = \",aa )"
   ]
  },
  {
   "cell_type": "code",
   "execution_count": 46,
   "id": "97799f2e-fe68-410d-9fb0-e701fd789923",
   "metadata": {},
   "outputs": [
    {
     "name": "stdout",
     "output_type": "stream",
     "text": [
      "a =  0b110\n",
      "b =  0b101\n"
     ]
    }
   ],
   "source": [
    "print(\"a = \",bin(bb) )\n",
    "print(\"b = \",bin(aa) )"
   ]
  },
  {
   "cell_type": "code",
   "execution_count": 48,
   "id": "778a017d-9993-4192-8c70-d04486074689",
   "metadata": {},
   "outputs": [],
   "source": [
    "#  Use 4th Method"
   ]
  },
  {
   "cell_type": "markdown",
   "id": "b8ead07d-9786-49b1-846d-9dca657fd0fd",
   "metadata": {},
   "source": [
    "# XOR"
   ]
  },
  {
   "cell_type": "code",
   "execution_count": 53,
   "id": "1e5f54e1-9fd7-4d5d-a85b-e60887f76e71",
   "metadata": {},
   "outputs": [],
   "source": [
    "# ---"
   ]
  },
  {
   "cell_type": "code",
   "execution_count": 55,
   "id": "be98332e-54cb-4bfd-9df8-3fdb2ce12e64",
   "metadata": {},
   "outputs": [],
   "source": [
    "# Use 5th method"
   ]
  },
  {
   "cell_type": "code",
   "execution_count": 61,
   "id": "33285af4-6b38-4605-a756-c16f1d3547bc",
   "metadata": {},
   "outputs": [
    {
     "name": "stdout",
     "output_type": "stream",
     "text": [
      "X=10 Y=20\n"
     ]
    }
   ],
   "source": [
    "x,y = 10 , 20\n",
    "print(\"X=\"+str(x),\"Y=\"+str(y))"
   ]
  },
  {
   "cell_type": "code",
   "execution_count": 63,
   "id": "8c95581d-6270-4956-aa3d-ffb6cd42ce12",
   "metadata": {},
   "outputs": [
    {
     "name": "stdout",
     "output_type": "stream",
     "text": [
      "X=20, Y= 10\n"
     ]
    }
   ],
   "source": [
    "x,y=y,x\n",
    "print(f\"X={x}, Y= {y}\")"
   ]
  },
  {
   "cell_type": "code",
   "execution_count": null,
   "id": "2a163fbe-3691-425e-b7a3-9307fee17d4b",
   "metadata": {},
   "outputs": [],
   "source": []
  }
 ],
 "metadata": {
  "kernelspec": {
   "display_name": "Python [conda env:base] *",
   "language": "python",
   "name": "conda-base-py"
  },
  "language_info": {
   "codemirror_mode": {
    "name": "ipython",
    "version": 3
   },
   "file_extension": ".py",
   "mimetype": "text/x-python",
   "name": "python",
   "nbconvert_exporter": "python",
   "pygments_lexer": "ipython3",
   "version": "3.12.7"
  }
 },
 "nbformat": 4,
 "nbformat_minor": 5
}
